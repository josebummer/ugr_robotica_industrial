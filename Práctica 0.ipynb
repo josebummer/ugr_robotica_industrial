{
 "cells": [
  {
   "cell_type": "markdown",
   "metadata": {},
   "source": [
    "# Introducción a Jupyter, Numpy y Matplotlib"
   ]
  },
  {
   "cell_type": "markdown",
   "metadata": {},
   "source": [
    "## Inicialización de una libreta Jupyter"
   ]
  },
  {
   "cell_type": "markdown",
   "metadata": {},
   "source": [
    "Para inicializar la libreta y poderla utilizar con mumpy y matplotlib, y asegurarse que los gráficos se presenten donde deben de estar es necesario ejecutar las siguientes instrucciones:"
   ]
  },
  {
   "cell_type": "code",
   "execution_count": 1,
   "metadata": {},
   "outputs": [],
   "source": [
    "%matplotlib inline\n",
    "import numpy as np\n",
    "import matplotlib.pyplot as plt"
   ]
  },
  {
   "cell_type": "markdown",
   "metadata": {},
   "source": [
    "Recuerda que hay que ejecutar cada celda (cell) con *ctrl-enter* o con el simbolo de la flechita arriba de la libreta.\n",
    "\n",
    "La primer linea es un comando específico de Ipython conocidos como *comandos mágicos*. En este comando le especificamos a la libreta que vamos a utilizar matplotlib para hacer gráficas y que queremos que las anexe dentro del documento. Existen muchos comandos mágicos, algunos muy útiles que vamos a ir viendo sobre la marcha, por ejempo el comando `%time` para medir el tiempo de ejecución de una celda, o `%timeit` para ejecutar en bucle un comando y obtener una estimación del tiempo de cómputo promedio. Para una explicacion completa está la libreta http://nbviewer.ipython.or%g/github/ipython/ipython/blob/1.x/examples/notebooks/Cell%20Magics.ipynb. \n",
    "\n",
    "En versiones nuevas de **Jupyter**, podemos utilizar el *cell magic* `%matplotlib notebook`, que crea un lugar en el que se van a visualizar todas las imágenes del notebook. Según el caso, esto puede ser más o menos conveniente, pero aquí somos muy tradicionales y vamos a usar el anterior. \n"
   ]
  },
  {
   "cell_type": "markdown",
   "metadata": {},
   "source": [
    "## Inicializando variables en Numpy"
   ]
  },
  {
   "cell_type": "markdown",
   "metadata": {},
   "source": [
    "Numpy es la librería por excelencia para el cálculo científico. Gracias a Numpy podemos trabajar con objetos que son arrays multidimensionales con un alto rendimiento, usando las herramientas que provee. Es, hablando rápidamente, una potente alternativa a MATLAB. \n",
    "\n",
    "Numpy agrega a python básicamente dos nuevos tipos o clases, de los cuales solo nos vamos a interesar por los arrays multidimensionales o `ndarray`. La manera más sencilla de crear un array (vector o matriz) es utilizando `array` como:"
   ]
  },
  {
   "cell_type": "code",
   "execution_count": 2,
   "metadata": {},
   "outputs": [
    {
     "name": "stdout",
     "output_type": "stream",
     "text": [
      "vector a = [ 1.      3.1416 40.      0.      2.      5.    ]\n",
      "matriz A = [[1 2]\n",
      " [3 4]\n",
      " [5 6]]\n"
     ]
    }
   ],
   "source": [
    "# Crea un objeto vector\n",
    "vector_a = np.array([1, 3.1416, 40, 0, 2, 5])\n",
    "print(\"vector a = \"+str(vector_a))\n",
    "\n",
    "# Crea una matriz\n",
    "matriz_A = np.array([[1, 2], [3, 4], [5, 6]])\n",
    "print(\"matriz A = \"+str(matriz_A))"
   ]
  },
  {
   "cell_type": "markdown",
   "metadata": {},
   "source": [
    "Esta es la manera más directa para crear arrays, pero no es la única. Existen otras formas de crear arrays según el tipo de datos que queremos que contengan: \n",
    "\n",
    "* arange(ini=0, fin, inc=1): Devuelve un ndarray iniciando en ini y terminando en fin, con incrementos de inc\n",
    "\n",
    "* zeros(dim): Devuelve un ndarray de dimensión dim (si es un escalar se considera un vector, si es una tupla de números entonces\n",
    "son las dimensiones del ndarray), con todas sus entradas en cero. \n",
    "      \n",
    "* ones(dim): Similar a zeros() pero con unos.\n",
    "    \n",
    "* eye(x, y=none): si solo se tiene el argumento x devuelve una matriz identidad de $x \\times x$. Si se encuentra y,\n",
    "entonces una matriz diagonal rectangular de dimensión x por y.\n",
    "      \n",
    "* zeros_like( x ): Un ndarray de ceros de la misma dimensión que x (igual existe ones_like).\n",
    "    \n",
    "* linspace(inicial, final, elementos): Devuelve un ndarray de una dimensión iniciando en inicial, hasta final de \n",
    "manera que existan elementos numeros igualmente espaciados. Muy útil para graficación principalmente.\n",
    "      \n",
    "* random.rand(dim1, dim2, ...): Devuelve un ndarray de dimensiones dim1 por dim2 por ... con números aleatorios\n",
    "generados por una distribución uniforme entre 0 y 1. \n",
    "      \n",
    "Veamos unos cuantos ejemplos:"
   ]
  },
  {
   "cell_type": "code",
   "execution_count": 3,
   "metadata": {},
   "outputs": [
    {
     "name": "stdout",
     "output_type": "stream",
     "text": [
      "Un vector de ceros con 5 valores\n",
      "[0. 0. 0. 0. 0.]\n"
     ]
    }
   ],
   "source": [
    "vZ = np.zeros(5)\n",
    "print(\"Un vector de ceros con 5 valores\")\n",
    "print(vZ)"
   ]
  },
  {
   "cell_type": "code",
   "execution_count": 4,
   "metadata": {},
   "outputs": [
    {
     "name": "stdout",
     "output_type": "stream",
     "text": [
      "Una matriz de 3 x 10 sólo con unos\n",
      "[[1. 1. 1. 1. 1. 1. 1. 1. 1. 1.]\n",
      " [1. 1. 1. 1. 1. 1. 1. 1. 1. 1.]\n",
      " [1. 1. 1. 1. 1. 1. 1. 1. 1. 1.]]\n"
     ]
    }
   ],
   "source": [
    "mO = np.ones((3, 10))\n",
    "print(\"Una matriz de 3 x 10 sólo con unos\")\n",
    "print(mO)"
   ]
  },
  {
   "cell_type": "code",
   "execution_count": 5,
   "metadata": {},
   "outputs": [
    {
     "name": "stdout",
     "output_type": "stream",
     "text": [
      "va = \n",
      "[0 1 2 3 4 5 6 7 8 9]\n"
     ]
    }
   ],
   "source": [
    "# Utilizaremos arange más adelante para crear intervalos de tiempo\n",
    "va = np.arange(10)\n",
    "print(\"va = \")\n",
    "print(va)"
   ]
  },
  {
   "cell_type": "code",
   "execution_count": 6,
   "metadata": {},
   "outputs": [
    {
     "name": "stdout",
     "output_type": "stream",
     "text": [
      "vb = \n",
      "[-1.00000000e+00 -9.00000000e-01 -8.00000000e-01 -7.00000000e-01\n",
      " -6.00000000e-01 -5.00000000e-01 -4.00000000e-01 -3.00000000e-01\n",
      " -2.00000000e-01 -1.00000000e-01 -2.22044605e-16  1.00000000e-01\n",
      "  2.00000000e-01  3.00000000e-01  4.00000000e-01  5.00000000e-01\n",
      "  6.00000000e-01  7.00000000e-01  8.00000000e-01  9.00000000e-01]\n"
     ]
    }
   ],
   "source": [
    "vb = np.arange(-1,1,0.1)\n",
    "print(\"vb = \")\n",
    "print(vb)"
   ]
  },
  {
   "cell_type": "code",
   "execution_count": 7,
   "metadata": {},
   "outputs": [
    {
     "name": "stdout",
     "output_type": "stream",
     "text": [
      "Y una matriz de ceros de las dimensiones de mO:\n",
      "[[0. 0. 0. 0. 0. 0. 0. 0. 0. 0.]\n",
      " [0. 0. 0. 0. 0. 0. 0. 0. 0. 0.]\n",
      " [0. 0. 0. 0. 0. 0. 0. 0. 0. 0.]]\n"
     ]
    }
   ],
   "source": [
    "print(\"Y una matriz de ceros de las dimensiones de mO:\")\n",
    "print(np.zeros_like(mO))"
   ]
  },
  {
   "cell_type": "code",
   "execution_count": 8,
   "metadata": {},
   "outputs": [
    {
     "name": "stdout",
     "output_type": "stream",
     "text": [
      "También podemos crearla como:\n",
      "[[0. 0. 0. 0. 0. 0. 0. 0. 0. 0.]\n",
      " [0. 0. 0. 0. 0. 0. 0. 0. 0. 0.]\n",
      " [0. 0. 0. 0. 0. 0. 0. 0. 0. 0.]]\n"
     ]
    }
   ],
   "source": [
    "print(\"También podemos crearla como:\")\n",
    "print(np.zeros(mO.shape))"
   ]
  },
  {
   "cell_type": "code",
   "execution_count": 9,
   "metadata": {},
   "outputs": [
    {
     "name": "stdout",
     "output_type": "stream",
     "text": [
      "Y una matriz con números aleatorios bajo una distribución uniforme entre 0 y 1\n",
      "[[0.91579796 0.49999879 0.31644175 0.39519559 0.66101671 0.87574364\n",
      "  0.41172083 0.25551105 0.24080116 0.73371976 0.76324485 0.96431442]\n",
      " [0.59017801 0.62215318 0.36175522 0.81340153 0.91290429 0.51611904\n",
      "  0.44238112 0.39889045 0.48195618 0.97840442 0.21571586 0.76035444]\n",
      " [0.65604041 0.43189739 0.16761491 0.84888912 0.22389735 0.444484\n",
      "  0.55244171 0.08319239 0.49436148 0.87322805 0.18437248 0.17911896]\n",
      " [0.17003162 0.11013734 0.35047065 0.03895677 0.77877567 0.09340859\n",
      "  0.0454909  0.5709381  0.32082171 0.07210143 0.0406964  0.79155383]\n",
      " [0.33444128 0.28873025 0.71342446 0.86642181 0.46368421 0.24905866\n",
      "  0.37623273 0.88683453 0.30428748 0.23542199 0.909289   0.24984307]]\n"
     ]
    }
   ],
   "source": [
    "mA = np.random.rand(5, 12)\n",
    "print(\"Y una matriz con números aleatorios bajo una distribución uniforme entre 0 y 1\")\n",
    "print(mA)"
   ]
  },
  {
   "cell_type": "markdown",
   "metadata": {},
   "source": [
    "### Primer problema a resolver (20 puntos): "
   ]
  },
  {
   "cell_type": "markdown",
   "metadata": {},
   "source": [
    "En la siguiente celda (o puedes crear las que consideres convenientes) crea las siguientes matrices:\n",
    "\n",
    "* Una matriz de 4 por 6 con valores aleatorios de acuerdo a una distribución normal con media cero y varianza unitaria.\n",
    "    \n",
    "* Un vector de 10 elementos con valores aleatorios de números enteros entre 4 y 100 (randint)\n",
    "    \n",
    "* Una matriz diagonal de 5 por 5 cuyos elementos de la diagonal sean (1, 2, 3, 4, 5)"
   ]
  },
  {
   "cell_type": "code",
   "execution_count": 17,
   "metadata": {},
   "outputs": [],
   "source": [
    "m = np.random.normal(0,1,(4,6))\n",
    "v = np.random.randint(4,100,10)\n",
    "md = np.diag(np.arange(1,6))"
   ]
  },
  {
   "cell_type": "markdown",
   "metadata": {},
   "source": [
    "## Operaciones básicas de los ndarray"
   ]
  },
  {
   "cell_type": "markdown",
   "metadata": {},
   "source": [
    "La mayoría de las operaciones que se pueden aplicar e los ndarray se encuenran en el espacio de nombres de np, y las cuales son bastante directas tal como:\n",
    "\n",
    "    b = np.sin(a)\n",
    "\n",
    "la cual devuelve en b un ndarray de las mismas dimensiones que a, cuyas entradas son el seno de las entradas de a (en radianes).\n",
    "Así, parece inecesario explicar las funciones cos, tan, tanh, acos, asin, etc..\n",
    "\n",
    "Otras funciones muy útiles no son tan directas. Veamos algunas:\n",
    "\n",
    "    c = a + b\n",
    "\n",
    "es la suma de dos ndarray, bastante obvio, lo que no lo es tanto es:\n",
    "\n",
    "    c = a * b\n",
    "\n",
    "la cual es un ndarray resultante de la *multiplicación punto a punto* de los elementos de a y b, asumiendo que ambos tienen\n",
    "las mismas diensiones. ¿Y para aplicar un producto matricial? Pues se utiliza el comando dot (o producto punto) el cual puede ser\n",
    "expresado de dos formas:\n",
    "\n",
    "    c = np.dot(a, b)\n",
    "    c = a.dot(b)\n",
    "\n",
    "La suma de los elementos de un ndarray tambien es un método del objeto (como min, max, argmin, argmax, etc...)\n",
    "\n",
    "    b = a.sum()\n",
    "\n",
    "es la suma de *todos los elementos del array* mientras que\n",
    "\n",
    "    b = a.sum(axis=0) \n",
    "\n",
    "es un ndarray con una dimensión menos que a, con la suma de las columnas. Veamos unos ejemplos:"
   ]
  },
  {
   "cell_type": "code",
   "execution_count": 18,
   "metadata": {},
   "outputs": [
    {
     "name": "stdout",
     "output_type": "stream",
     "text": [
      "a = \n",
      "[[1 2 3]\n",
      " [4 5 6]]\n",
      "b = \n",
      "[[0.89084851 0.54803473 0.74246025]\n",
      " [0.13733491 0.01509029 0.13755356]]\n",
      "Suma de todos los números de b\n",
      "2.4713222529192462\n",
      "Media de cada columna de a\n",
      "[2.5 3.5 4.5]\n",
      "Transpuesta de a, forma larga\n",
      "[[1 4]\n",
      " [2 5]\n",
      " [3 6]]\n",
      "Transpuesta de a, forma preferida\n",
      "[[1 4]\n",
      " [2 5]\n",
      " [3 6]]\n",
      "10 * b = \n",
      "[[8.90848514 5.4803473  7.42460247]\n",
      " [1.37334913 0.15090288 1.37553561]]\n",
      "a * b =\n",
      "[[0.89084851 1.09606946 2.22738074]\n",
      " [0.54933965 0.07545144 0.82532136]]\n",
      "2 elevado a la matriz a\n",
      "[[ 2  4  8]\n",
      " [16 32 64]]\n",
      "a elevada al cuadrado (elemento a elemento)\n",
      "[[ 1  4  9]\n",
      " [16 25 36]]\n",
      "a.dot(b.T) = \n",
      "[[ 4.21429872  0.58017617]\n",
      " [10.75832919  1.45011246]]\n",
      "a.dot(b) debería dar error\n"
     ]
    },
    {
     "ename": "ValueError",
     "evalue": "shapes (2,3) and (2,3) not aligned: 3 (dim 1) != 2 (dim 0)",
     "output_type": "error",
     "traceback": [
      "\u001b[0;31m---------------------------------------------------------------------------\u001b[0m",
      "\u001b[0;31mValueError\u001b[0m                                Traceback (most recent call last)",
      "\u001b[0;32m<ipython-input-18-95a52d012b03>\u001b[0m in \u001b[0;36m<module>\u001b[0;34m\u001b[0m\n\u001b[1;32m     37\u001b[0m \u001b[0;34m\u001b[0m\u001b[0m\n\u001b[1;32m     38\u001b[0m \u001b[0mprint\u001b[0m \u001b[0;34m(\u001b[0m\u001b[0;34m\"a.dot(b) debería dar error\"\u001b[0m\u001b[0;34m)\u001b[0m\u001b[0;34m\u001b[0m\u001b[0;34m\u001b[0m\u001b[0m\n\u001b[0;32m---> 39\u001b[0;31m \u001b[0mprint\u001b[0m \u001b[0;34m(\u001b[0m\u001b[0ma\u001b[0m\u001b[0;34m.\u001b[0m\u001b[0mdot\u001b[0m\u001b[0;34m(\u001b[0m\u001b[0mb\u001b[0m\u001b[0;34m)\u001b[0m\u001b[0;34m)\u001b[0m\u001b[0;34m\u001b[0m\u001b[0;34m\u001b[0m\u001b[0m\n\u001b[0m",
      "\u001b[0;31mValueError\u001b[0m: shapes (2,3) and (2,3) not aligned: 3 (dim 1) != 2 (dim 0)"
     ]
    }
   ],
   "source": [
    "# Vamos a generar varios ndarrays\n",
    "a = np.array([[1, 2, 3], [4, 5, 6]])\n",
    "b = np.random.rand(2, 3)\n",
    "\n",
    "print (\"a = \")\n",
    "print (a)\n",
    "\n",
    "print (\"b = \")\n",
    "print (b)\n",
    "\n",
    "print (\"Suma de todos los números de b\")\n",
    "print (b.sum())\n",
    "\n",
    "print (\"Media de cada columna de a\")\n",
    "print (a.mean(axis=0))\n",
    "\n",
    "print (\"Transpuesta de a, forma larga\")\n",
    "print (a.transpose())\n",
    "\n",
    "print (\"Transpuesta de a, forma preferida\")\n",
    "print (a.T)\n",
    "\n",
    "print (\"10 * b = \")\n",
    "print (10 * b)\n",
    "\n",
    "print (\"a * b =\")\n",
    "print (a * b)\n",
    "\n",
    "print (\"2 elevado a la matriz a\")\n",
    "print (np.power(2, a))\n",
    "\n",
    "print (\"a elevada al cuadrado (elemento a elemento)\")\n",
    "print (a**2)\n",
    "\n",
    "print (\"a.dot(b.T) = \")\n",
    "print (a.dot(b.T))\n",
    "\n",
    "print (\"a.dot(b) debería dar error\")\n",
    "print (a.dot(b))"
   ]
  },
  {
   "cell_type": "markdown",
   "metadata": {},
   "source": [
    "Como vemos tenemos aqui una bateria completa de funciones, las cuales se aplican en un ndarray. ¿Pero que información tengo de un ndarray? ¿Como puedo componer un ndarray a partir de otros? \n",
    "\n",
    "Un ndarray, una vez definido, utiliza una sintaxis muy parecida a la de Matlab para poder tomar partes de el. Asumamos por ejemplo un ndarray de una dimensión:"
   ]
  },
  {
   "cell_type": "code",
   "execution_count": 19,
   "metadata": {},
   "outputs": [
    {
     "name": "stdout",
     "output_type": "stream",
     "text": [
      "[[1 5 6 2 1]\n",
      " [3 5 7 3 6]\n",
      " [2 5 9 2 8]\n",
      " [6 7 9 3 4]\n",
      " [4 2 8 1 9]]\n"
     ]
    },
    {
     "data": {
      "text/plain": [
       "array([[6, 7, 9, 3, 4],\n",
       "       [2, 5, 9, 2, 8]])"
      ]
     },
     "execution_count": 19,
     "metadata": {},
     "output_type": "execute_result"
    }
   ],
   "source": [
    "a = np.random.randint(1,10,(5,5))\n",
    "print(a)\n",
    "a[3:1:-1,:]\n"
   ]
  },
  {
   "cell_type": "code",
   "execution_count": 20,
   "metadata": {},
   "outputs": [
    {
     "name": "stdout",
     "output_type": "stream",
     "text": [
      "El número de dimensiones de a es:  1\n",
      "Y su forma es  (100,)\n",
      "Y tiene  100  elementos\n"
     ]
    }
   ],
   "source": [
    "#Generamos el ndarray\n",
    "a = np.arange(100)\n",
    "\n",
    "# Chacamos algunas propiedades\n",
    "print (\"El número de dimensiones de a es: \", a.ndim)\n",
    "print (\"Y su forma es \", a.shape)\n",
    "print (\"Y tiene \", a.size, \" elementos\")\n",
    "\n",
    "#Generamos algunos ndarrays a partir de a\n",
    "b, c = a[:20], a[20:]\n",
    "d, e = a[-1:-10:-1], a[10:11]\n",
    "f = a[::-1]\n",
    "g = a[a % 5 == 0]\n",
    "h = f[[1, 15, 60]]\n",
    "\n",
    "# Ahora trata de inferir que es lo que debe contener cada array b, c, d, e, f, g, h sin hacer ninguna prueba.\n",
    "\n",
    "# Agrega ahora los print que consideres necesarios para verificar que valores tiene b, c, d, e, f, g, h "
   ]
  },
  {
   "cell_type": "markdown",
   "metadata": {},
   "source": [
    "A partir de una matriz (un ndarray de dos dimensiones) se pueden ejemplificar otras cosas, por ejemplo:"
   ]
  },
  {
   "cell_type": "code",
   "execution_count": 21,
   "metadata": {},
   "outputs": [
    {
     "name": "stdout",
     "output_type": "stream",
     "text": [
      "b queda como: \n",
      "[[ 0.00000000e+00  6.34239197e-02  1.26592454e-01  1.89251244e-01\n",
      "   2.51147987e-01  3.12033446e-01  3.71662456e-01  4.29794912e-01\n",
      "   4.86196736e-01  5.40640817e-01]\n",
      " [ 5.92907929e-01  6.42787610e-01  6.90079011e-01  7.34591709e-01\n",
      "   7.76146464e-01  8.14575952e-01  8.49725430e-01  8.81453363e-01\n",
      "   9.09631995e-01  9.34147860e-01]\n",
      " [ 9.54902241e-01  9.71811568e-01  9.84807753e-01  9.93838464e-01\n",
      "   9.98867339e-01  9.99874128e-01  9.96854776e-01  9.89821442e-01\n",
      "   9.78802446e-01  9.63842159e-01]\n",
      " [ 9.45000819e-01  9.22354294e-01  8.95993774e-01  8.66025404e-01\n",
      "   8.32569855e-01  7.95761841e-01  7.55749574e-01  7.12694171e-01\n",
      "   6.66769001e-01  6.18158986e-01]\n",
      " [ 5.67059864e-01  5.13677392e-01  4.58226522e-01  4.00930535e-01\n",
      "   3.42020143e-01  2.81732557e-01  2.20310533e-01  1.58001396e-01\n",
      "   9.50560433e-02  3.17279335e-02]\n",
      " [-3.17279335e-02 -9.50560433e-02 -1.58001396e-01 -2.20310533e-01\n",
      "  -2.81732557e-01 -3.42020143e-01 -4.00930535e-01 -4.58226522e-01\n",
      "  -5.13677392e-01 -5.67059864e-01]\n",
      " [-6.18158986e-01 -6.66769001e-01 -7.12694171e-01 -7.55749574e-01\n",
      "  -7.95761841e-01 -8.32569855e-01 -8.66025404e-01 -8.95993774e-01\n",
      "  -9.22354294e-01 -9.45000819e-01]\n",
      " [-9.63842159e-01 -9.78802446e-01 -9.89821442e-01 -9.96854776e-01\n",
      "  -9.99874128e-01 -9.98867339e-01 -9.93838464e-01 -9.84807753e-01\n",
      "  -9.71811568e-01 -9.54902241e-01]\n",
      " [-9.34147860e-01 -9.09631995e-01 -8.81453363e-01 -8.49725430e-01\n",
      "  -8.14575952e-01 -7.76146464e-01 -7.34591709e-01 -6.90079011e-01\n",
      "  -6.42787610e-01 -5.92907929e-01]\n",
      " [-5.40640817e-01 -4.86196736e-01 -4.29794912e-01 -3.71662456e-01\n",
      "  -3.12033446e-01 -2.51147987e-01 -1.89251244e-01 -1.26592454e-01\n",
      "  -6.34239197e-02 -2.44929360e-16]]\n",
      "donde b tiene  2  dimensiones, con una forma  (10, 10) y con  100  elementos.\n"
     ]
    }
   ],
   "source": [
    "#Generamos un arreglo con 100 valores equiespaciados del seno desde 0 a 2$\\pi$\n",
    "a = np.sin(np.linspace(0, 2 * np.pi, 100))\n",
    "\n",
    "#Lo convertimos en una patriz de 10 por (lo que sea), que lo que sea es 10 en este caso, seguro\n",
    "b = a.reshape((10, -1))\n",
    "print (\"b queda como: \")\n",
    "print (b)\n",
    "print (\"donde b tiene \", b.ndim, \" dimensiones, con una forma \", b.shape, \"y con \", b.size, \" elementos.\")"
   ]
  },
  {
   "cell_type": "code",
   "execution_count": 22,
   "metadata": {},
   "outputs": [
    {
     "name": "stdout",
     "output_type": "stream",
     "text": [
      "La diferencia de a y c sería\n",
      "0.0\n"
     ]
    }
   ],
   "source": [
    "#Si queremos convertir un ndarray a un array de una sola dimension \n",
    "c = b.flatten()\n",
    "\n",
    "print (\"La diferencia de a y c sería\")\n",
    "print ((a - c).sum())"
   ]
  },
  {
   "cell_type": "code",
   "execution_count": 23,
   "metadata": {},
   "outputs": [
    {
     "name": "stdout",
     "output_type": "stream",
     "text": [
      "a es de forma  (1, 30)\n",
      "b es de forma  (30, 1)\n",
      "c es de forma  (30, 2)\n",
      "d es de forma  (2, 30)\n"
     ]
    }
   ],
   "source": [
    "# Si queremos hacer que un vector se comporte como un vector fila\n",
    "a = np.arange(30).reshape(1,-1)\n",
    "print (\"a es de forma \", a.shape)\n",
    "\n",
    "# Y si queremos que sea un vector columna hacemos esto\n",
    "b = np.linspace(30, 35, 30).reshape(-1,1)\n",
    "print (\"b es de forma \", b.shape)\n",
    "\n",
    "# Y para hacer una concatenacion de columnas entonces utilizamps la forma especial np.c[]\n",
    "c = np.c_[a.T, b]\n",
    "print( \"c es de forma \", c.shape)\n",
    "\n",
    "#Y una concatenación de renglones es por lo tanto\n",
    "d = np.r_[a, b.T]\n",
    "print( \"d es de forma \", d.shape)"
   ]
  },
  {
   "cell_type": "markdown",
   "metadata": {},
   "source": [
    "### Segundo problema a resolver (30 puntos)"
   ]
  },
  {
   "cell_type": "markdown",
   "metadata": {},
   "source": [
    "Realiza lo siguiente:\n",
    "\n",
    "* Genera una matriz de 100 por 5 de forma que en cada columna tengamos lo siguiente:\n",
    "    \n",
    "    - En la primer columna los valores entre -1 y 1, equiespaciados\n",
    "    - En la segunda columna el valor de seno para los valores de la primer columna\n",
    "    - En la tercer columna el valor de la función logística de los valores de la primer columna, la cual es $g(x) = \\frac{1}{1 + \\exp(-x)}$\n",
    "    - En la cuarta columna 1 si el valor de $\\sin(x) > 0$ y -1 en otro caso, donde $x$ son los valores de la primer columna (revisa la función np.where)\n",
    "    - En la quinta columna valores aleatorios de acuerdo a una distribución gaussiana con media 1 y varianza 0.5\n",
    "        \n",
    "* Encuentra un arreglo con todos los valores de la función logística, cuando el valor absoluto del seno de x es menor a 0.5\n",
    "    \n",
    "* Convierte este arraglo en una matriz con 5 columnas y los renglones que sean necesarios.\n",
    "        "
   ]
  },
  {
   "cell_type": "markdown",
   "metadata": {},
   "source": [
    "Además de estas funciones, numpy cuenta con funciones del algebra lineal altamente optimizadas (aunque no paralelizadas), las cuales son (entre otras):\n",
    "\n",
    "* `np.linalg.inv(a)`: Inversa de a\n",
    "* `np.linalg.pinv(a)`: Pseudoinversa de Ross-Penrose de a (muy útil para nosotros)\n",
    "* `np.linalg.det(a)`: determinante de a\n",
    "* `np.linalg.eig(a)`: eigenvalores y eigenvectores de a\n",
    "* `np.linalg.svd(a)`: Valores singulares de a"
   ]
  },
  {
   "cell_type": "code",
   "execution_count": 81,
   "metadata": {},
   "outputs": [],
   "source": [
    "m = np.ones((100,5))\n",
    "m[:,0] = np.linspace(-1,1,m.shape[0])\n",
    "m[:,1] = np.sin(m[:,0])\n",
    "m[:,2] = 1/(1+np.exp(-m[:,0]))\n",
    "m[np.where(m[:,1]<=0)[0],3] = -1\n",
    "m[:,4] = np.random.normal(1,0.5,m.shape[0])\n",
    "arr = m[abs(m[:,1])<0.5,2]\n",
    "tam = int(np.ceil(arr.size/5))*5\n",
    "ins = tam-arr.size\n",
    "arr = np.append(arr,np.zeros(ins))\n",
    "arr = arr.reshape((5,-1))"
   ]
  },
  {
   "cell_type": "markdown",
   "metadata": {},
   "source": [
    "## Haciendo gráficas sencillas con Matplotlib"
   ]
  },
  {
   "cell_type": "markdown",
   "metadata": {},
   "source": [
    "**Matplotlib** es la librería que provee scipy para realizar representación gráfica en 2D y 3D de numerosas variables que vamos a utilizar a lo largo de esta asignatura.\n",
    "\n",
    "La mejor manera de mostrar como funcionan las facilidades que ofrece matplotlib, es mostrando directamente su uso más sencillo, así que veamos un ejemplo muy simple. Es importante recordar que en la primer celda de esta libreta se definió la manera de realizar las gráficas (dentro del documento y no como figuras aparte), así como se cargo matplotlib en el espacio de nombres plt."
   ]
  },
  {
   "cell_type": "code",
   "execution_count": 82,
   "metadata": {},
   "outputs": [
    {
     "data": {
      "text/plain": [
       "[-3.1416, 3.1416, -1.1, 1.1]"
      ]
     },
     "execution_count": 82,
     "metadata": {},
     "output_type": "execute_result"
    },
    {
     "data": {
      "image/png": "[encoded data removed]",
      "text/plain": [
       "<Figure size 432x288 with 1 Axes>"
      ]
     },
     "metadata": {
      "needs_background": "light"
     },
     "output_type": "display_data"
    }
   ],
   "source": [
    "# Vamos a hacerlo pasito a pasito\n",
    "\n",
    "# Primero obtenemos un vector x\n",
    "x = np.linspace(-np.pi, np.pi, 1000)\n",
    "\n",
    "# Luego obtenemos un vector y bastante trivial\n",
    "y = np.sin(x)\n",
    "\n",
    "# Y ahora hacemos una gráfica básica de x y y\n",
    "plt.plot(x, y)\n",
    "plt.xlabel(\"el eje de las x's\")\n",
    "plt.ylabel(\"el eje de las y's\")\n",
    "plt.title(\"Este es un plot normalito\")\n",
    "\n",
    "# Bueno como la gráfica no esta muy bien a lo mejor se ve mejor si modificamos los limites de los ejes\n",
    "plt.axis([-3.1416, 3.1416, -1.1, 1.1])"
   ]
  },
  {
   "cell_type": "markdown",
   "metadata": {},
   "source": [
    "Ahora hagamos una gráfica con varios valores diferentes"
   ]
  },
  {
   "cell_type": "code",
   "execution_count": 83,
   "metadata": {},
   "outputs": [
    {
     "data": {
      "text/plain": [
       "<matplotlib.legend.Legend at 0x7f902041cf60>"
      ]
     },
     "execution_count": 83,
     "metadata": {},
     "output_type": "execute_result"
    },
    {
     "data": {
      "image/png": "[encoded data removed]",
      "text/plain": [
       "<Figure size 432x288 with 1 Axes>"
      ]
     },
     "metadata": {
      "needs_background": "light"
     },
     "output_type": "display_data"
    }
   ],
   "source": [
    "plt.plot(x, np.sin(x), label='seno')\n",
    "\n",
    "plt.plot(x, 1/(1 + np.exp(-x)), label=u\"logística\")\n",
    "\n",
    "plt.plot(x, (0.2 * x * x) - 0.5, label=r'$0.2 x^2 - 0.5$')\n",
    "\n",
    "plt.axis([-3.1416, 3.1416, -1.1, 1.4])\n",
    "\n",
    "plt.title(\"Tres funciones trigonométricas juntas\")\n",
    "plt.xlabel(r\"$\\theta$ (rad)\")\n",
    "plt.ylabel(\"magnitud\")\n",
    "\n",
    "plt.legend(loc=0)"
   ]
  },
  {
   "cell_type": "markdown",
   "metadata": {},
   "source": [
    "Creemos ahora una figura en la que se representan los valores de un vector, y definimos el espacio que queremos ver con `plt.axis()`:"
   ]
  },
  {
   "cell_type": "code",
   "execution_count": null,
   "metadata": {},
   "outputs": [],
   "source": [
    "val_x = np.array([0, 1, 2])\n",
    "val_y = np.array([0, 1, 1])\n",
    "plt.plot(val_x,val_y)\n",
    "plt.axis([-1, 3, 0, 2])"
   ]
  },
  {
   "cell_type": "markdown",
   "metadata": {},
   "source": [
    "Hay muchos tipos de funciones, lo mejor para saber como ustilizar matplotlib es ver la galeria de ejemplo que se encuentran en la ayuda,\n",
    "y pueden consultarse en http://matplotlib.org/gallery.html (al darle click a una imagen se puede ver el código que la genera).\n",
    "\n",
    "Por ejemplo si queremos una gráfica tipo tarta:"
   ]
  },
  {
   "cell_type": "code",
   "execution_count": null,
   "metadata": {},
   "outputs": [],
   "source": [
    "labels = 'Tortas', 'Tacos', 'Burritos', 'Ensaladas'\n",
    "porcentajes = [15, 30, 45, 10]\n",
    "colores = ['yellowgreen', 'gold', 'lightskyblue', 'lightcoral']\n",
    "separa = (0, 0.1, 0, 0) # solo separa la segunda rebanada (i.e. 'Tacos')\n",
    "\n",
    "plt.pie(porcentajes, explode=separa, labels=labels, colors=colores, autopct='%1.1f%%', shadow=True, startangle=90)\n",
    "plt.axis('equal') #Para que el pay se vea como un círculo\n",
    "plt.xlabel(u'Comida sana')\n"
   ]
  },
  {
   "cell_type": "markdown",
   "metadata": {},
   "source": [
    "O si queremos una gráfica tipo contorno con todo y datos"
   ]
  },
  {
   "cell_type": "code",
   "execution_count": null,
   "metadata": {},
   "outputs": [],
   "source": [
    "# Genera datos en los ejes x y y de forma uniforme entre -2 y 2\n",
    "# prueba generando 2000 puntos (con y sin colores) pero para \n",
    "# 2000 puntos no vayas a dibujar los valores parque no se va a ver nada.\n",
    "x = np.random.uniform(-2, 2, 200)\n",
    "y = np.random.uniform(-2, 2, 200)\n",
    "\n",
    "# Genera los valores en z en cada punto generado, con la función siguiente\n",
    "z = x * np.exp(-x ** 2 - y ** 2)\n",
    "\n",
    "# define el grid donde se muestran los datos\n",
    "xi = np.linspace(-2.1, 2.1, 100)\n",
    "yi = np.linspace(-2.1, 2.1, 200)\n",
    "\n",
    "# Genera datos de z interpolados para tener mejor presición en el contorno\n",
    "from matplotlib.mlab import griddata\n",
    "zi = griddata(x, y, z, xi, yi, interp='linear')\n",
    "\n",
    "# Hace una gráfica de contorno con únicamente lineas de nivel.\n",
    "plt.contour(xi, yi, zi, 15, linewidths=0.5, colors='k')\n",
    "\n",
    "# Para hacerlo mas acá pues se puede agregar color a cada nivel y agregarle una barra de nivel de color\n",
    "plt.contourf(xi, yi, zi, 15, cmap='inferno', vmax=abs(zi).max(), vmin=-abs(zi).max())\n",
    "plt.colorbar() # draw colorbar\n",
    "\n",
    "# Grafica los puntos generados sobre el contorno.\n",
    "plt.scatter(x, y, marker='o', c='b', s=5, zorder=10)\n",
    "\n",
    "# Hace los límites de la gráfica exactos\n",
    "plt.axis([-2, 2, -2, 2])\n",
    "\n",
    "plt.title('Prueba para un contorno con datos generados')"
   ]
  },
  {
   "cell_type": "markdown",
   "metadata": {},
   "source": [
    "Por último, un detalle muy importante y que puede ser de mucha utilidad: La generación de subplots. Una figura puede contener varias subgraficas, para esto hay que especificar en cuantas gráficas vamos a dividir la figura en forma de renglones y columnas, y luego seleccionar la subgráfica en la que vamos a graficar. Por ejemplo\n",
    "\n",
    "    plt.subplot(2,2,1)\n",
    "    \n",
    "significa que la figura la vamos a dividir en 2 renglones y dos columnas (cuatro subgráficas) y vamos a escribir sobre la subgráfica 1. Lo mejor es ilustrarlo con un ejemplo muy simple."
   ]
  },
  {
   "cell_type": "code",
   "execution_count": null,
   "metadata": {},
   "outputs": [],
   "source": [
    "x = np.linspace(0, 5, 1000)\n",
    "y1 = np.exp(-0.2 * x) * np.cos(2 * np.pi * x)\n",
    "y2 = np.cos(2 * np.pi * x)\n",
    "y3 = np.exp(0.2 * x) * np.cos(2 * np.pi * x)\n",
    "y4 = np.exp(-0.1 * x)\n",
    "\n",
    "plt.subplot(2, 2, 1)\n",
    "plt.plot(x, y1)\n",
    "plt.title('Estable subamortiguado')\n",
    "\n",
    "plt.subplot(2, 2, 2)\n",
    "plt.plot(x, y2)\n",
    "plt.title('Criticamente estable')\n",
    "\n",
    "plt.subplot(2, 2, 3)\n",
    "plt.plot(x, y3)\n",
    "plt.title('inestable')\n",
    "\n",
    "plt.subplot(2, 2, 4)\n",
    "plt.plot(x, y4)\n",
    "plt.title('Estable sobreamortiguado')\n",
    "\n"
   ]
  },
  {
   "cell_type": "markdown",
   "metadata": {},
   "source": [
    "### Ultimo trabajo (50 puntos)"
   ]
  },
  {
   "cell_type": "markdown",
   "metadata": {},
   "source": [
    "Realiza lo siguiente en varias celdas abajo de esta:\n",
    "\n",
    "* Genera un vector de 1000 datos aleatorios distribuidos de acuerdo a una gaussiana con media 3 y varianza .5, y otro vector con 1000 datos aleatorios distribuidos con una madia 0 y una varianza unitaria. Al concatenar los dos vectores, estás generando una serie de datos proveniente de una distribución conocida como suma de gaussianas. Para ver como es esta distribución de datos, grafíca un histograma (con un número suficiente de bins).\n",
    "\n",
    "* Genera un vector de datos de entrada `x = np.linspace(0, 1, 1000)` y grafica $\\sin(2\\pi x)$, $\\sin(4\\pi x)$, $\\sin(8\\pi x)$. ¿Que conlusión puedes sacar al respecto? Realiza la gráfica con titulo, ejes, etiquetas y todo lo necesario para que sea publicable.\n",
    "\n",
    "* Grafica la función $e^{-t}\\cos(2\\pi t)$ para $t \\in [0, 5]$. Asegurate que la gráfica sea una linea punteada de color rojo, que la gráfica tenga título, etiqueta en el eje de $t$ (tiempo), etiqueta en el eje de $y$ (voltaje en $\\mu$V), y una nota donde se escriba la ecuación simulada.\n",
    "\n",
    "* Copia el ejemplo de la galería de matplotlib http://matplotlib.org/examples/pylab_examples/shading_example.html y modificalo para que se grafique dentro de la libreta. Una vez funcionando, comenta *cada linea de código* dejando bien claro **en español y con tus palabras** que es lo que hace cada una de las lineas."
   ]
  },
  {
   "cell_type": "code",
   "execution_count": null,
   "metadata": {},
   "outputs": [],
   "source": [
    "#Agrega aqui el primer problema y resualve cada problema en una celda independiente."
   ]
  }
 ],
 "metadata": {
  "kernelspec": {
   "display_name": "Python 3",
   "language": "python",
   "name": "python3"
  },
  "language_info": {
   "codemirror_mode": {
    "name": "ipython",
    "version": 3
   },
   "file_extension": ".py",
   "mimetype": "text/x-python",
   "name": "python",
   "nbconvert_exporter": "python",
   "pygments_lexer": "ipython3",
   "version": "3.7.2"
  }
 },
 "nbformat": 4,
 "nbformat_minor": 1
}
